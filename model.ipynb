{
  "nbformat": 4,
  "nbformat_minor": 0,
  "metadata": {
    "kernelspec": {
      "display_name": "Python 3",
      "language": "python",
      "name": "python3"
    },
    "language_info": {
      "codemirror_mode": {
        "name": "ipython",
        "version": 3
      },
      "file_extension": ".py",
      "mimetype": "text/x-python",
      "name": "python",
      "nbconvert_exporter": "python",
      "pygments_lexer": "ipython3",
      "version": "3.9.3"
    },
    "colab": {
      "name": "5_6334540328774664940.ipynb",
      "provenance": [],
      "collapsed_sections": [],
      "include_colab_link": true
    },
    "accelerator": "GPU"
  },
  "cells": [
    {
      "cell_type": "markdown",
      "metadata": {
        "id": "view-in-github",
        "colab_type": "text"
      },
      "source": [
        "<a href=\"https://colab.research.google.com/github/yusufSadur/fastai-v3/blob/master/model.ipynb\" target=\"_parent\"><img src=\"https://colab.research.google.com/assets/colab-badge.svg\" alt=\"Open In Colab\"/></a>"
      ]
    },
    {
      "cell_type": "code",
      "metadata": {
        "id": "YrT-U0_BcQGL"
      },
      "source": [
        "# Importing Libs\n",
        "\n",
        "import glob\n",
        "import shutil\n",
        "import os"
      ],
      "execution_count": null,
      "outputs": []
    },
    {
      "cell_type": "markdown",
      "metadata": {
        "id": "YTAykky5cQGU"
      },
      "source": [
        "## Importing libraries"
      ]
    },
    {
      "cell_type": "code",
      "metadata": {
        "id": "bcD1TiO6cQGV"
      },
      "source": [
        "from keras.layers import Input, Lambda, Dense, Flatten \n",
        "from keras.models import Model\n",
        "from keras.applications.vgg16 import VGG16\n",
        "from keras.applications.vgg16 import preprocess_input\n",
        "from keras.preprocessing import image\n",
        "from keras.preprocessing.image import ImageDataGenerator\n",
        "from keras.models import Sequential\n",
        "import numpy as np\n",
        "from glob import glob\n",
        "import matplotlib.pyplot as plt\n",
        "import os"
      ],
      "execution_count": null,
      "outputs": []
    },
    {
      "cell_type": "markdown",
      "metadata": {
        "id": "9Uy2xLWTcQGV"
      },
      "source": [
        "## Re-sizing all the images"
      ]
    },
    {
      "cell_type": "code",
      "metadata": {
        "id": "Sk1fd1ULcQGV"
      },
      "source": [
        "IMAGE_SIZE = [224, 224]\n",
        "\n",
        "train_path = '/content/drive/MyDrive/dataset/train'\n",
        "test_path = '/content/drive/MyDrive/dataset/test'"
      ],
      "execution_count": null,
      "outputs": []
    },
    {
      "cell_type": "markdown",
      "metadata": {
        "id": "uvw04X54cQGW"
      },
      "source": [
        "## Using VGG16 to create the model"
      ]
    },
    {
      "cell_type": "code",
      "metadata": {
        "colab": {
          "base_uri": "https://localhost:8080/"
        },
        "id": "mVnlN9dVcQGX",
        "outputId": "e71ac6d2-5e45-49d8-f872-8ca3fcb7a8d1"
      },
      "source": [
        "vgg = VGG16(input_shape=IMAGE_SIZE + [3], weights='imagenet', include_top = False)"
      ],
      "execution_count": null,
      "outputs": [
        {
          "output_type": "stream",
          "text": [
            "Downloading data from https://storage.googleapis.com/tensorflow/keras-applications/vgg16/vgg16_weights_tf_dim_ordering_tf_kernels_notop.h5\n",
            "58892288/58889256 [==============================] - 1s 0us/step\n"
          ],
          "name": "stdout"
        }
      ]
    },
    {
      "cell_type": "markdown",
      "metadata": {
        "id": "glXftOkpcQGX"
      },
      "source": [
        "### This is to NOT train existing weights"
      ]
    },
    {
      "cell_type": "code",
      "metadata": {
        "id": "PyT74fZZcQGY"
      },
      "source": [
        "for layer in vgg.layers:\n",
        "    layer.trainable = False"
      ],
      "execution_count": null,
      "outputs": []
    },
    {
      "cell_type": "markdown",
      "metadata": {
        "id": "le85EtYWcQGZ"
      },
      "source": [
        "### Getting the number of folders which are my output classes"
      ]
    },
    {
      "cell_type": "code",
      "metadata": {
        "colab": {
          "base_uri": "https://localhost:8080/"
        },
        "id": "3lsGp0eFcQGa",
        "outputId": "f7fc5b53-9f51-44db-9fa4-a19e4ec67d5d"
      },
      "source": [
        "folders = glob(train_path + '/*')\n",
        "folders"
      ],
      "execution_count": null,
      "outputs": [
        {
          "output_type": "execute_result",
          "data": {
            "text/plain": [
              "['/content/drive/MyDrive/dataset/train/healthy',\n",
              " '/content/drive/MyDrive/dataset/train/late_blight']"
            ]
          },
          "metadata": {
            "tags": []
          },
          "execution_count": 10
        }
      ]
    },
    {
      "cell_type": "markdown",
      "metadata": {
        "id": "W_ZRg0YOcQGb"
      },
      "source": [
        "### Creating a flatten layer to flatten the vgg output what ever we got "
      ]
    },
    {
      "cell_type": "code",
      "metadata": {
        "id": "MbGLmPY1cQGc"
      },
      "source": [
        "x = Flatten()(vgg.output)"
      ],
      "execution_count": null,
      "outputs": []
    },
    {
      "cell_type": "markdown",
      "metadata": {
        "id": "bZ6Oy-oucQGc"
      },
      "source": [
        "### Adding our last layer"
      ]
    },
    {
      "cell_type": "code",
      "metadata": {
        "id": "5LvlhSNucQGd"
      },
      "source": [
        "prediction = Dense(len(folders), activation='softmax')(x)"
      ],
      "execution_count": null,
      "outputs": []
    },
    {
      "cell_type": "markdown",
      "metadata": {
        "id": "PyB7YOgQcQGd"
      },
      "source": [
        "### Creating a model object"
      ]
    },
    {
      "cell_type": "code",
      "metadata": {
        "id": "nPbXjo_bcQGd"
      },
      "source": [
        "model = Model(inputs=vgg.input, outputs=prediction)"
      ],
      "execution_count": null,
      "outputs": []
    },
    {
      "cell_type": "markdown",
      "metadata": {
        "id": "pSnzlAElcQGe"
      },
      "source": [
        "### View the structure of the model"
      ]
    },
    {
      "cell_type": "code",
      "metadata": {
        "colab": {
          "base_uri": "https://localhost:8080/"
        },
        "id": "Dj0oLUD8cQGe",
        "outputId": "d363b1f7-255b-467e-bd4f-1915159ff73e"
      },
      "source": [
        "model.summary()"
      ],
      "execution_count": null,
      "outputs": [
        {
          "output_type": "stream",
          "text": [
            "Model: \"model\"\n",
            "_________________________________________________________________\n",
            "Layer (type)                 Output Shape              Param #   \n",
            "=================================================================\n",
            "input_1 (InputLayer)         [(None, 224, 224, 3)]     0         \n",
            "_________________________________________________________________\n",
            "block1_conv1 (Conv2D)        (None, 224, 224, 64)      1792      \n",
            "_________________________________________________________________\n",
            "block1_conv2 (Conv2D)        (None, 224, 224, 64)      36928     \n",
            "_________________________________________________________________\n",
            "block1_pool (MaxPooling2D)   (None, 112, 112, 64)      0         \n",
            "_________________________________________________________________\n",
            "block2_conv1 (Conv2D)        (None, 112, 112, 128)     73856     \n",
            "_________________________________________________________________\n",
            "block2_conv2 (Conv2D)        (None, 112, 112, 128)     147584    \n",
            "_________________________________________________________________\n",
            "block2_pool (MaxPooling2D)   (None, 56, 56, 128)       0         \n",
            "_________________________________________________________________\n",
            "block3_conv1 (Conv2D)        (None, 56, 56, 256)       295168    \n",
            "_________________________________________________________________\n",
            "block3_conv2 (Conv2D)        (None, 56, 56, 256)       590080    \n",
            "_________________________________________________________________\n",
            "block3_conv3 (Conv2D)        (None, 56, 56, 256)       590080    \n",
            "_________________________________________________________________\n",
            "block3_pool (MaxPooling2D)   (None, 28, 28, 256)       0         \n",
            "_________________________________________________________________\n",
            "block4_conv1 (Conv2D)        (None, 28, 28, 512)       1180160   \n",
            "_________________________________________________________________\n",
            "block4_conv2 (Conv2D)        (None, 28, 28, 512)       2359808   \n",
            "_________________________________________________________________\n",
            "block4_conv3 (Conv2D)        (None, 28, 28, 512)       2359808   \n",
            "_________________________________________________________________\n",
            "block4_pool (MaxPooling2D)   (None, 14, 14, 512)       0         \n",
            "_________________________________________________________________\n",
            "block5_conv1 (Conv2D)        (None, 14, 14, 512)       2359808   \n",
            "_________________________________________________________________\n",
            "block5_conv2 (Conv2D)        (None, 14, 14, 512)       2359808   \n",
            "_________________________________________________________________\n",
            "block5_conv3 (Conv2D)        (None, 14, 14, 512)       2359808   \n",
            "_________________________________________________________________\n",
            "block5_pool (MaxPooling2D)   (None, 7, 7, 512)         0         \n",
            "_________________________________________________________________\n",
            "flatten (Flatten)            (None, 25088)             0         \n",
            "_________________________________________________________________\n",
            "dense (Dense)                (None, 2)                 50178     \n",
            "=================================================================\n",
            "Total params: 14,764,866\n",
            "Trainable params: 50,178\n",
            "Non-trainable params: 14,714,688\n",
            "_________________________________________________________________\n"
          ],
          "name": "stdout"
        }
      ]
    },
    {
      "cell_type": "markdown",
      "metadata": {
        "id": "goUdyDCScQGf"
      },
      "source": [
        "### Telling the model what cost and optimization method to use"
      ]
    },
    {
      "cell_type": "code",
      "metadata": {
        "id": "e3SrbojjcQGf"
      },
      "source": [
        "model.compile(\n",
        "    loss='categorical_crossentropy',\n",
        "    optimizer = 'adam',\n",
        "    metrics = ['accuracy']\n",
        ")"
      ],
      "execution_count": null,
      "outputs": []
    },
    {
      "cell_type": "markdown",
      "metadata": {
        "id": "KLiR775jcQGg"
      },
      "source": [
        "### Use the Image Data Generator to import the images from the dataset"
      ]
    },
    {
      "cell_type": "code",
      "metadata": {
        "id": "ALZUqN09cQGg"
      },
      "source": [
        "train_datagen = ImageDataGenerator(rescale=1./255, shear_range=0.2, zoom_range=0.2, horizontal_flip=True)\n",
        "test_datagen = ImageDataGenerator(rescale=1./255)"
      ],
      "execution_count": null,
      "outputs": []
    },
    {
      "cell_type": "code",
      "metadata": {
        "colab": {
          "base_uri": "https://localhost:8080/"
        },
        "id": "xDx77T4_cQGi",
        "outputId": "0379adc8-1959-4840-f1ca-8e6bd3301122"
      },
      "source": [
        "training_set = train_datagen.flow_from_directory(train_path, target_size=(224,224), batch_size=32, class_mode='categorical')"
      ],
      "execution_count": null,
      "outputs": [
        {
          "output_type": "stream",
          "text": [
            "Found 2557 images belonging to 2 classes.\n"
          ],
          "name": "stdout"
        }
      ]
    },
    {
      "cell_type": "code",
      "metadata": {
        "colab": {
          "base_uri": "https://localhost:8080/"
        },
        "id": "lhgKuZmecQGk",
        "outputId": "4b085c63-38d9-43da-c3f7-ddcc50457891"
      },
      "source": [
        "training_set.class_indices"
      ],
      "execution_count": null,
      "outputs": [
        {
          "output_type": "execute_result",
          "data": {
            "text/plain": [
              "{'healthy': 0, 'late_blight': 1}"
            ]
          },
          "metadata": {
            "tags": []
          },
          "execution_count": 18
        }
      ]
    },
    {
      "cell_type": "code",
      "metadata": {
        "colab": {
          "base_uri": "https://localhost:8080/"
        },
        "id": "qZKiY7hgcQGl",
        "outputId": "a4c6ca4d-a47f-4f93-8590-dbd355eff9ab"
      },
      "source": [
        "testing_set = test_datagen.flow_from_directory(test_path, target_size=(224,224), batch_size=32, class_mode='categorical')"
      ],
      "execution_count": null,
      "outputs": [
        {
          "output_type": "stream",
          "text": [
            "Found 1146 images belonging to 2 classes.\n"
          ],
          "name": "stdout"
        }
      ]
    },
    {
      "cell_type": "code",
      "metadata": {
        "colab": {
          "base_uri": "https://localhost:8080/"
        },
        "id": "r4_j46FucQGn",
        "outputId": "338957eb-292e-4ef2-b987-de49477aff2c"
      },
      "source": [
        "testing_set.class_indices"
      ],
      "execution_count": null,
      "outputs": [
        {
          "output_type": "execute_result",
          "data": {
            "text/plain": [
              "{'healthy': 0, 'late_blight': 1}"
            ]
          },
          "metadata": {
            "tags": []
          },
          "execution_count": 20
        }
      ]
    },
    {
      "cell_type": "markdown",
      "metadata": {
        "id": "sq71EvMCcQGn"
      },
      "source": [
        "### Fit the model "
      ]
    },
    {
      "cell_type": "code",
      "metadata": {
        "colab": {
          "base_uri": "https://localhost:8080/"
        },
        "id": "54hBzL1XcQGo",
        "outputId": "a2d1d947-209f-496a-9672-fea9dc5a777a"
      },
      "source": [
        "result = model.fit_generator(\n",
        "    training_set,\n",
        "    validation_data=testing_set,\n",
        "    epochs=10,\n",
        "    steps_per_epoch=len(training_set),\n",
        "    validation_steps=len(testing_set)\n",
        ")\n",
        "# val_accuracy: 100%\n",
        "# accuracy: 99%"
      ],
      "execution_count": null,
      "outputs": [
        {
          "output_type": "stream",
          "text": [
            "/usr/local/lib/python3.7/dist-packages/tensorflow/python/keras/engine/training.py:1844: UserWarning: `Model.fit_generator` is deprecated and will be removed in a future version. Please use `Model.fit`, which supports generators.\n",
            "  warnings.warn('`Model.fit_generator` is deprecated and '\n"
          ],
          "name": "stderr"
        },
        {
          "output_type": "stream",
          "text": [
            "Epoch 1/10\n",
            "80/80 [==============================] - 969s 12s/step - loss: 0.5492 - accuracy: 0.7944 - val_loss: 0.0640 - val_accuracy: 0.9808\n",
            "Epoch 2/10\n",
            "80/80 [==============================] - 36s 450ms/step - loss: 0.0320 - accuracy: 0.9965 - val_loss: 0.0479 - val_accuracy: 0.9860\n",
            "Epoch 3/10\n",
            "80/80 [==============================] - 37s 462ms/step - loss: 0.0263 - accuracy: 0.9942 - val_loss: 0.0326 - val_accuracy: 0.9921\n",
            "Epoch 4/10\n",
            "80/80 [==============================] - 37s 465ms/step - loss: 0.0176 - accuracy: 0.9973 - val_loss: 0.0390 - val_accuracy: 0.9869\n",
            "Epoch 5/10\n",
            "80/80 [==============================] - 37s 462ms/step - loss: 0.0167 - accuracy: 0.9953 - val_loss: 0.0229 - val_accuracy: 0.9921\n",
            "Epoch 6/10\n",
            "80/80 [==============================] - 37s 458ms/step - loss: 0.0133 - accuracy: 0.9982 - val_loss: 0.0345 - val_accuracy: 0.9904\n",
            "Epoch 7/10\n",
            "80/80 [==============================] - 37s 456ms/step - loss: 0.0075 - accuracy: 0.9997 - val_loss: 0.0531 - val_accuracy: 0.9808\n",
            "Epoch 8/10\n",
            "80/80 [==============================] - 37s 462ms/step - loss: 0.0093 - accuracy: 0.9992 - val_loss: 0.0198 - val_accuracy: 0.9930\n",
            "Epoch 9/10\n",
            "80/80 [==============================] - 36s 455ms/step - loss: 0.0118 - accuracy: 0.9981 - val_loss: 0.0255 - val_accuracy: 0.9904\n",
            "Epoch 10/10\n",
            "80/80 [==============================] - 37s 458ms/step - loss: 0.0068 - accuracy: 0.9984 - val_loss: 0.0197 - val_accuracy: 0.9930\n"
          ],
          "name": "stdout"
        }
      ]
    },
    {
      "cell_type": "code",
      "metadata": {
        "colab": {
          "base_uri": "https://localhost:8080/"
        },
        "id": "qPfT6yDYcQGp",
        "outputId": "517af6d9-0b35-40df-f3e4-161402261632"
      },
      "source": [
        "#getting the accuracy\n",
        "model.evaluate_generator(training_set)\n",
        "# output [loss, accuracy]"
      ],
      "execution_count": null,
      "outputs": [
        {
          "output_type": "stream",
          "text": [
            "/usr/local/lib/python3.7/dist-packages/tensorflow/python/keras/engine/training.py:1877: UserWarning: `Model.evaluate_generator` is deprecated and will be removed in a future version. Please use `Model.evaluate`, which supports generators.\n",
            "  warnings.warn('`Model.evaluate_generator` is deprecated and '\n"
          ],
          "name": "stderr"
        },
        {
          "output_type": "execute_result",
          "data": {
            "text/plain": [
              "[0.00445579132065177, 0.9992178082466125]"
            ]
          },
          "metadata": {
            "tags": []
          },
          "execution_count": 22
        }
      ]
    },
    {
      "cell_type": "code",
      "metadata": {
        "colab": {
          "base_uri": "https://localhost:8080/"
        },
        "id": "J28FmKCLcQGr",
        "outputId": "91691b7a-3b90-40a5-b8f5-b9743123b473"
      },
      "source": [
        "#getting the validation accuracy\n",
        "model.evaluate_generator(testing_set)\n",
        "# output [val_loss, val_acc]"
      ],
      "execution_count": null,
      "outputs": [
        {
          "output_type": "stream",
          "text": [
            "/usr/local/lib/python3.7/dist-packages/tensorflow/python/keras/engine/training.py:1877: UserWarning: `Model.evaluate_generator` is deprecated and will be removed in a future version. Please use `Model.evaluate`, which supports generators.\n",
            "  warnings.warn('`Model.evaluate_generator` is deprecated and '\n"
          ],
          "name": "stderr"
        },
        {
          "output_type": "execute_result",
          "data": {
            "text/plain": [
              "[0.0197020061314106, 0.9930192232131958]"
            ]
          },
          "metadata": {
            "tags": []
          },
          "execution_count": 23
        }
      ]
    },
    {
      "cell_type": "code",
      "metadata": {
        "colab": {
          "base_uri": "https://localhost:8080/"
        },
        "id": "9zzvGmwok8KH",
        "outputId": "a252a8b2-c1e6-4705-9345-7fc42e854e0b"
      },
      "source": [
        "from google.colab import drive\n",
        "drive.mount('/content/drive')"
      ],
      "execution_count": null,
      "outputs": [
        {
          "output_type": "stream",
          "text": [
            "Drive already mounted at /content/drive; to attempt to forcibly remount, call drive.mount(\"/content/drive\", force_remount=True).\n"
          ],
          "name": "stdout"
        }
      ]
    },
    {
      "cell_type": "code",
      "metadata": {
        "colab": {
          "base_uri": "https://localhost:8080/",
          "height": 349
        },
        "id": "68DdW74ucQGs",
        "outputId": "4373ba71-d70b-49d4-ca51-6207f7ebe4b7"
      },
      "source": [
        "# Generate Confusion Matrix\n",
        "import tensorflow as tf\n",
        "y_actual = []\n",
        "y_test = []\n",
        "\n",
        "for i in os.listdir('/content/drive/MyDrive/dataset/test/healthy/'):\n",
        "    img = image.load_img('/content/drive/MyDrive/dataset/test/healthy/'+i, target_size=(224,224))\n",
        "    img = image.img_to_array(img)\n",
        "    img = np.expand_dims(img, axis=0)\n",
        "    p = model.predict(img)\n",
        "    p = np.argmax(p,axis=1)\n",
        "    y_test.append(p[0])\n",
        "    y_actual.append(0)\n",
        "    \n",
        "for i in os.listdir('/content/drive/MyDrive/dataset/test/late_blight/'):\n",
        "    img = image.load_img('/content/drive/MyDrive/dataset/test/late_blight/'+i, target_size=(224,224))\n",
        "    img = image.img_to_array(img)\n",
        "    img = np.expand_dims(img, axis=0)\n",
        "    p = model.predict(img)\n",
        "    p = np.argmax(p,axis=1)\n",
        "    y_test.append(p[0])\n",
        "    y_actual.append(1)\n",
        "    \n",
        "y_actual = np.array(y_actual)\n",
        "y_test = np.array(y_test)\n",
        "\n",
        "from sklearn.metrics import confusion_matrix\n",
        "cm = confusion_matrix(y_actual, y_test)\n",
        "\n",
        "import seaborn as sns\n",
        "sns.heatmap(cm, cmap=\"plasma\", annot=True)\n",
        "\n",
        "model_TP = cm[0][0]\n",
        "model_TN = cm[1][1]\n",
        "model_FN = cm[1][0]\n",
        "model_FP = cm[0][1]\n",
        "\n",
        "print(cm)\n",
        "print(\"Testing Accuracy:\", (model_TP + model_TN) / (model_TP + model_TN + model_FP + model_FN))\n",
        "print(\"Sensitivity:\", (model_TP) / (model_TP + model_FN))\n",
        "print(\"Specificity:\", (model_TN) / (model_TN + model_FP))"
      ],
      "execution_count": null,
      "outputs": [
        {
          "output_type": "stream",
          "text": [
            "[[571   2]\n",
            " [138 435]]\n",
            "Testing Accuracy: 0.8778359511343804\n",
            "Sensitivity: 0.8053596614950634\n",
            "Specificity: 0.9954233409610984\n"
          ],
          "name": "stdout"
        },
        {
          "output_type": "display_data",
          "data": {
            "image/png": "[encoded data removed]",
            "text/plain": [
              "<Figure size 432x288 with 2 Axes>"
            ]
          },
          "metadata": {
            "tags": [],
            "needs_background": "light"
          }
        }
      ]
    },
    {
      "cell_type": "markdown",
      "metadata": {
        "id": "XGoVnstQcQGt"
      },
      "source": [
        "### Plot the loss"
      ]
    },
    {
      "cell_type": "code",
      "metadata": {
        "colab": {
          "base_uri": "https://localhost:8080/",
          "height": 282
        },
        "id": "dhERSwkGcQGu",
        "outputId": "1a8f4787-4cc4-4d7e-a6b7-7ef53365f8b9"
      },
      "source": [
        "plt.plot(result.history['loss'], label='train loss')\n",
        "plt.plot(result.history['val_loss'], label='val loss')\n",
        "plt.legend()\n",
        "plt.show()\n",
        "plt.savefig('LossVal_loss')"
      ],
      "execution_count": null,
      "outputs": [
        {
          "output_type": "display_data",
          "data": {
            "image/png": "[encoded data removed]",
            "text/plain": [
              "<Figure size 432x288 with 1 Axes>"
            ]
          },
          "metadata": {
            "tags": [],
            "needs_background": "light"
          }
        },
        {
          "output_type": "display_data",
          "data": {
            "text/plain": [
              "<Figure size 432x288 with 0 Axes>"
            ]
          },
          "metadata": {
            "tags": []
          }
        }
      ]
    },
    {
      "cell_type": "markdown",
      "metadata": {
        "id": "MK6sWkrDcQGu"
      },
      "source": [
        "### Plot the accuracy"
      ]
    },
    {
      "cell_type": "code",
      "metadata": {
        "colab": {
          "base_uri": "https://localhost:8080/",
          "height": 282
        },
        "id": "Pofnqo2RcQGv",
        "outputId": "51cf8e61-b9de-4e33-eb1c-f3f5f5c2f94b"
      },
      "source": [
        "plt.plot(result.history['accuracy'], label='train acc')\n",
        "plt.plot(result.history['val_accuracy'], label='val acc')\n",
        "plt.legend()\n",
        "plt.show()\n",
        "plt.savefig('AccVal_acc')"
      ],
      "execution_count": null,
      "outputs": [
        {
          "output_type": "display_data",
          "data": {
            "image/png": "[encoded data removed]",
            "text/plain": [
              "<Figure size 432x288 with 1 Axes>"
            ]
          },
          "metadata": {
            "tags": [],
            "needs_background": "light"
          }
        },
        {
          "output_type": "display_data",
          "data": {
            "text/plain": [
              "<Figure size 432x288 with 0 Axes>"
            ]
          },
          "metadata": {
            "tags": []
          }
        }
      ]
    },
    {
      "cell_type": "code",
      "metadata": {
        "colab": {
          "base_uri": "https://localhost:8080/"
        },
        "id": "M3M8zy8RcQG3",
        "outputId": "e5e4c654-d988-4285-c683-268bc62431b2"
      },
      "source": [
        "result.history"
      ],
      "execution_count": null,
      "outputs": [
        {
          "output_type": "execute_result",
          "data": {
            "text/plain": [
              "{'accuracy': [0.9147438406944275,\n",
              "  0.9937426447868347,\n",
              "  0.9949159026145935,\n",
              "  0.995698094367981,\n",
              "  0.9964802265167236,\n",
              "  0.9972624182701111,\n",
              "  0.9984356760978699,\n",
              "  0.9992178082466125,\n",
              "  0.9988267421722412,\n",
              "  0.9984356760978699],\n",
              " 'loss': [0.22784149646759033,\n",
              "  0.032036300748586655,\n",
              "  0.025629922747612,\n",
              "  0.019327523186802864,\n",
              "  0.014409570954740047,\n",
              "  0.012974089942872524,\n",
              "  0.009325948543846607,\n",
              "  0.007298056501895189,\n",
              "  0.008535690605640411,\n",
              "  0.006699430290609598],\n",
              " 'val_accuracy': [0.9808027744293213,\n",
              "  0.9860383868217468,\n",
              "  0.9921466112136841,\n",
              "  0.9869109988212585,\n",
              "  0.9921466112136841,\n",
              "  0.9904013872146606,\n",
              "  0.9808027744293213,\n",
              "  0.9930192232131958,\n",
              "  0.9904013872146606,\n",
              "  0.9930192232131958],\n",
              " 'val_loss': [0.06399542093276978,\n",
              "  0.047912970185279846,\n",
              "  0.03256237879395485,\n",
              "  0.03897356241941452,\n",
              "  0.022889982908964157,\n",
              "  0.034515660256147385,\n",
              "  0.05314498767256737,\n",
              "  0.019824286922812462,\n",
              "  0.02552977204322815,\n",
              "  0.019702009856700897]}"
            ]
          },
          "metadata": {
            "tags": []
          },
          "execution_count": 28
        }
      ]
    },
    {
      "cell_type": "markdown",
      "metadata": {
        "id": "ofVfhSmDcQG4"
      },
      "source": [
        "### Saving the model which used VGG16"
      ]
    },
    {
      "cell_type": "code",
      "metadata": {
        "colab": {
          "base_uri": "https://localhost:8080/",
          "height": 195
        },
        "id": "aLShffb7cQG4",
        "outputId": "41e77916-1273-41a7-9845-e2f742da5d32"
      },
      "source": [
        "import tensorflow as tf\n",
        "from keras.models import load_model\n",
        "\n",
        "model.save('model_vgg16.h5')\n",
        "\n",
        "\n",
        "from google.colab import files\n",
        "files.download(\"model_vgg16.h5\")\n",
        "\n",
        "\n"
      ],
      "execution_count": null,
      "outputs": [
        {
          "output_type": "display_data",
          "data": {
            "application/javascript": [
              "\n",
              "    async function download(id, filename, size) {\n",
              "      if (!google.colab.kernel.accessAllowed) {\n",
              "        return;\n",
              "      }\n",
              "      const div = document.createElement('div');\n",
              "      const label = document.createElement('label');\n",
              "      label.textContent = `Downloading \"${filename}\": `;\n",
              "      div.appendChild(label);\n",
              "      const progress = document.createElement('progress');\n",
              "      progress.max = size;\n",
              "      div.appendChild(progress);\n",
              "      document.body.appendChild(div);\n",
              "\n",
              "      const buffers = [];\n",
              "      let downloaded = 0;\n",
              "\n",
              "      const channel = await google.colab.kernel.comms.open(id);\n",
              "      // Send a message to notify the kernel that we're ready.\n",
              "      channel.send({})\n",
              "\n",
              "      for await (const message of channel.messages) {\n",
              "        // Send a message to notify the kernel that we're ready.\n",
              "        channel.send({})\n",
              "        if (message.buffers) {\n",
              "          for (const buffer of message.buffers) {\n",
              "            buffers.push(buffer);\n",
              "            downloaded += buffer.byteLength;\n",
              "            progress.value = downloaded;\n",
              "          }\n",
              "        }\n",
              "      }\n",
              "      const blob = new Blob(buffers, {type: 'application/binary'});\n",
              "      const a = document.createElement('a');\n",
              "      a.href = window.URL.createObjectURL(blob);\n",
              "      a.download = filename;\n",
              "      div.appendChild(a);\n",
              "      a.click();\n",
              "      div.remove();\n",
              "    }\n",
              "  "
            ],
            "text/plain": [
              "<IPython.core.display.Javascript object>"
            ]
          },
          "metadata": {
            "tags": []
          }
        },
        {
          "output_type": "display_data",
          "data": {
            "application/javascript": [
              "download(\"download_66c3e108-aa5f-4ffd-b0fd-a23c32906b6e\", \"model_vgg16.h5\", 59540304)"
            ],
            "text/plain": [
              "<IPython.core.display.Javascript object>"
            ]
          },
          "metadata": {
            "tags": []
          }
        },
        {
          "output_type": "error",
          "ename": "TypeError",
          "evalue": "ignored",
          "traceback": [
            "\u001b[0;31m---------------------------------------------------------------------------\u001b[0m",
            "\u001b[0;31mTypeError\u001b[0m                                 Traceback (most recent call last)",
            "\u001b[0;32m<ipython-input-31-e813ec820854>\u001b[0m in \u001b[0;36m<module>\u001b[0;34m()\u001b[0m\n\u001b[1;32m     10\u001b[0m \u001b[0;34m\u001b[0m\u001b[0m\n\u001b[1;32m     11\u001b[0m \u001b[0;32mfrom\u001b[0m \u001b[0mgoogle\u001b[0m\u001b[0;34m.\u001b[0m\u001b[0mcolab\u001b[0m \u001b[0;32mimport\u001b[0m \u001b[0mfiles\u001b[0m\u001b[0;34m\u001b[0m\u001b[0;34m\u001b[0m\u001b[0m\n\u001b[0;32m---> 12\u001b[0;31m \u001b[0mfiles\u001b[0m\u001b[0;34m.\u001b[0m\u001b[0mupload\u001b[0m\u001b[0;34m(\u001b[0m\u001b[0;34m\"model_vgg16.h5\"\u001b[0m\u001b[0;34m)\u001b[0m\u001b[0;34m\u001b[0m\u001b[0;34m\u001b[0m\u001b[0m\n\u001b[0m",
            "\u001b[0;31mTypeError\u001b[0m: upload() takes 0 positional arguments but 1 was given"
          ]
        }
      ]
    },
    {
      "cell_type": "markdown",
      "metadata": {
        "id": "F6lBeSTzcQHO"
      },
      "source": [
        "## Using the saved model for prediction"
      ]
    },
    {
      "cell_type": "code",
      "metadata": {
        "id": "Nl3u2YhFcQHP"
      },
      "source": [
        "from keras.models import load_model\n",
        "from keras.preprocessing import image\n",
        "from keras.applications.vgg16 import preprocess_input\n",
        "import numpy as np\n",
        "import cv2\n",
        "import tensorflow as tf\n"
      ],
      "execution_count": null,
      "outputs": []
    },
    {
      "cell_type": "code",
      "metadata": {
        "id": "4S5GVqXacQHQ"
      },
      "source": [
        "\n",
        "CATEGORIES = ['LateBlight-Incurable', 'Healthy']\n",
        "\n",
        "def prepare(filepath):\n",
        "    IMG_SIZE = 224\n",
        "    img_array = cv2.imread(filepath)\n",
        "    new_array = cv2.resize(img_array, (IMG_SIZE, IMG_SIZE), 3)\n",
        "    return new_array.reshape(1, 224, 224, 3)\n",
        "\n",
        "load_modal = tf.keras.models.load_model('model_vgg16.h5')"
      ],
      "execution_count": null,
      "outputs": []
    },
    {
      "cell_type": "code",
      "metadata": {
        "id": "mDMNto0wcQHQ"
      },
      "source": [
        "predict = load_modal.predict([prepare('/content/drive/MyDrive/dataset/test/healthy/000146ff-92a4-4db6-90ad-8fce2ae4fddd___GH_HL Leaf 259.1.JPG')])\n",
        "print(CATEGORIES[int(round(predict[0][0]))])\n",
        "print(predict[0][0])"
      ],
      "execution_count": null,
      "outputs": []
    },
    {
      "cell_type": "code",
      "metadata": {
        "id": "RTyPCAfYcQHR"
      },
      "source": [
        "predict = load_modal.predict([prepare('/content/drive/MyDrive/dataset/test/healthy/04c78dad-c1eb-4a1b-bfeb-da4c7cc528e1___RS_HL 9688.JPG')])\n",
        "print(CATEGORIES[int(round(predict[0][0]))])\n",
        "print(predict[0][0])"
      ],
      "execution_count": null,
      "outputs": []
    },
    {
      "cell_type": "code",
      "metadata": {
        "id": "YRuZBUcKcQHS"
      },
      "source": [
        "predict = load_modal.predict([prepare('./content/drive/MyDrive/dataset/test/late_blight/00355ec2-f12c-4015-b8f9-94354f69ce22___RS_Late.B 5311.JPG')])\n",
        "print(CATEGORIES[int(round(predict[0][0]))])\n",
        "print(predict[0][0])"
      ],
      "execution_count": null,
      "outputs": []
    },
    {
      "cell_type": "code",
      "metadata": {
        "id": "4UN0L_d2cQHW"
      },
      "source": [
        "predict = load_modal.predict([prepare('/content/drive/MyDrive/dataset/train/late_blight/670337a4-55b1-4312-8644-3545b1fcc06f___GHLB2 Leaf 8902.JPG')])\n",
        "print(CATEGORIES[int(round(predict[0][0]))])\n",
        "print(predict[0][0])"
      ],
      "execution_count": null,
      "outputs": []
    }
  ]
}